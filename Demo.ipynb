{
  "nbformat": 4,
  "nbformat_minor": 0,
  "metadata": {
    "colab": {
      "provenance": [],
      "authorship_tag": "ABX9TyMrnbbZcELycNzNz2DUlLOu",
      "include_colab_link": true
    },
    "kernelspec": {
      "name": "python3",
      "display_name": "Python 3"
    },
    "language_info": {
      "name": "python"
    }
  },
  "cells": [
    {
      "cell_type": "markdown",
      "metadata": {
        "id": "view-in-github",
        "colab_type": "text"
      },
      "source": [
        "<a href=\"https://colab.research.google.com/github/cssaivishnu/IR_Repo/blob/main/Demo.ipynb\" target=\"_parent\"><img src=\"https://colab.research.google.com/assets/colab-badge.svg\" alt=\"Open In Colab\"/></a>"
      ]
    },
    {
      "cell_type": "markdown",
      "source": [
        "# Upload that classifier model to the drive in the My Drive folder itself to avoid changing path in the code before running"
      ],
      "metadata": {
        "id": "gGQIMI_1Skbp"
      }
    },
    {
      "cell_type": "markdown",
      "source": [
        "Clone the github repo"
      ],
      "metadata": {
        "id": "fL3ZUnxt7gmU"
      }
    },
    {
      "cell_type": "code",
      "source": [
        "!git clone --branch main https://github.com/cssaivishnu/IR_Repo.git"
      ],
      "metadata": {
        "id": "eKesknPw7gmY",
        "colab": {
          "base_uri": "https://localhost:8080/"
        },
        "outputId": "fdd713b7-91fc-403d-fc9d-241d7ec936e8"
      },
      "execution_count": 1,
      "outputs": [
        {
          "output_type": "stream",
          "name": "stdout",
          "text": [
            "Cloning into 'IR_Repo'...\n",
            "remote: Enumerating objects: 63810, done.\u001b[K\n",
            "remote: Counting objects: 100% (123/123), done.\u001b[K\n",
            "remote: Compressing objects: 100% (86/86), done.\u001b[K\n",
            "remote: Total 63810 (delta 65), reused 71 (delta 37), pack-reused 63687\u001b[K\n",
            "Receiving objects: 100% (63810/63810), 2.34 GiB | 24.20 MiB/s, done.\n",
            "Resolving deltas: 100% (84/84), done.\n",
            "Updating files: 100% (76488/76488), done.\n"
          ]
        }
      ]
    },
    {
      "cell_type": "markdown",
      "metadata": {
        "id": "2bx-ZiPa7gmY"
      },
      "source": [
        "Import the essential libraries"
      ]
    },
    {
      "cell_type": "code",
      "execution_count": 2,
      "metadata": {
        "id": "gkxVB3cmG3lM"
      },
      "outputs": [],
      "source": [
        "import numpy as np\n",
        "import os\n",
        "import shutil\n",
        "import cv2\n",
        "from google.colab.patches import cv2_imshow\n",
        "import torchvision.transforms as transforms\n",
        "from PIL import Image\n",
        "import json\n",
        "import random\n",
        "from sklearn.model_selection import train_test_split\n",
        "from sklearn.metrics import confusion_matrix, accuracy_score, precision_score, recall_score, f1_score\n",
        "import tensorflow as tf\n",
        "from tensorflow import keras\n",
        "from tensorflow.keras import layers\n",
        "import pandas as pd\n",
        "\n",
        "tf.random.set_seed(20)\n",
        "random.seed = 20\n",
        "np.random.seed = 20"
      ]
    },
    {
      "cell_type": "markdown",
      "source": [
        "Mount drive to access the classifier model"
      ],
      "metadata": {
        "id": "hSHpJ23TAxTF"
      }
    },
    {
      "cell_type": "code",
      "source": [
        "from google.colab import drive\n",
        "drive.mount('/content/drive')"
      ],
      "metadata": {
        "id": "alhcxLONA3pO",
        "colab": {
          "base_uri": "https://localhost:8080/"
        },
        "outputId": "9da6c965-4a30-4fdb-ed4e-9cb37a7ac123"
      },
      "execution_count": 3,
      "outputs": [
        {
          "output_type": "stream",
          "name": "stdout",
          "text": [
            "Mounted at /content/drive\n"
          ]
        }
      ]
    },
    {
      "cell_type": "markdown",
      "metadata": {
        "id": "QOxYn1EL7gmZ"
      },
      "source": [
        "Make the main repo as the current active repository"
      ]
    },
    {
      "cell_type": "code",
      "execution_count": 4,
      "metadata": {
        "id": "JxlHR-HN7gmZ",
        "colab": {
          "base_uri": "https://localhost:8080/"
        },
        "outputId": "0295dd5c-6d60-4295-fffc-d820b05bd02b"
      },
      "outputs": [
        {
          "output_type": "stream",
          "name": "stdout",
          "text": [
            "/content/IR_Repo\n"
          ]
        }
      ],
      "source": [
        "os.chdir('/content/IR_Repo')\n",
        "cwd = os.getcwd()\n",
        "print(cwd)"
      ]
    },
    {
      "cell_type": "code",
      "source": [
        "def func(name):\n",
        "    for i in range(len(name)):\n",
        "        if name[i] == '&' or name[i] == '-':\n",
        "            name = name[:i] + '_' + name[i+1:]\n",
        "    return name"
      ],
      "metadata": {
        "id": "8txyzYs7Yyj4"
      },
      "execution_count": 5,
      "outputs": []
    },
    {
      "cell_type": "markdown",
      "metadata": {
        "id": "1dBb7kdLvGf1"
      },
      "source": [
        "Create the label encodings mapping the product categories"
      ]
    },
    {
      "cell_type": "code",
      "source": [
        "dir_path = 'dataset'\n",
        "i = 0\n",
        "name_to_label = dict()\n",
        "label_to_name = dict()\n",
        "name_list = sorted(os.listdir(dir_path))\n",
        "\n",
        "for name in name_list:\n",
        "    if os.path.isdir(os.path.join(dir_path, name)):\n",
        "        name = func(name)\n",
        "        name_to_label[name] = i\n",
        "        label_to_name[i] = name\n",
        "        i = i + 1"
      ],
      "metadata": {
        "id": "eDllHTjgUGMJ"
      },
      "execution_count": 6,
      "outputs": []
    },
    {
      "cell_type": "markdown",
      "source": [
        "Select 1 image from each of the product categories randomly"
      ],
      "metadata": {
        "id": "bDcn99CENBOB"
      }
    },
    {
      "cell_type": "code",
      "source": [
        "dir_path = 'dataset'\n",
        "dataset = []\n",
        "image_shape = (56, 56)\n",
        "images = []\n",
        "\n",
        "for name in name_list:\n",
        "    if os.path.isdir(os.path.join(dir_path, name)):\n",
        "        path = os.path.join(dir_path, name)\n",
        "        # print(name_to_label[name])\n",
        "        i = random.randint(0,99)\n",
        "        for f in sorted(os.listdir(path), reverse=True):\n",
        "            if os.path.isfile(os.path.join(path, f)):\n",
        "                if i == 0:\n",
        "                    img_path = os.path.join(path, f)\n",
        "                    img = Image.open(img_path)\n",
        "                    images.append(img)\n",
        "                    img = img.resize(image_shape, Image.ANTIALIAS)\n",
        "                    pixels = img.load()\n",
        "                    lst = []\n",
        "                    for i in range(img.size[0]):\n",
        "                        lst1 = []\n",
        "                        for j in range(img.size[1]):\n",
        "                            lst1.append(list(pixels[i, j]))\n",
        "                        lst.append(lst1)\n",
        "                    lst = np.array(lst)\n",
        "                    tupl = (lst,name_to_label[func(name)])\n",
        "                    dataset.append(tupl)\n",
        "                    break\n",
        "                i = i - 1"
      ],
      "metadata": {
        "id": "E4GzmPQFKp_I"
      },
      "execution_count": 10,
      "outputs": []
    },
    {
      "cell_type": "markdown",
      "source": [
        "Create features(X) and labels(y) from the dataset"
      ],
      "metadata": {
        "id": "s94qDslWNTEh"
      }
    },
    {
      "cell_type": "code",
      "source": [
        "X = []\n",
        "y = []\n",
        "\n",
        "for tupl in dataset:\n",
        "    x, yy = tupl\n",
        "    X.append(x)\n",
        "    y.append(yy)\n",
        "X = np.array(X)\n",
        "y = np.array(y).reshape(22,1)"
      ],
      "metadata": {
        "id": "6rUFTuCyM_dS"
      },
      "execution_count": 11,
      "outputs": []
    },
    {
      "cell_type": "markdown",
      "metadata": {
        "id": "ank6_wq74388"
      },
      "source": [
        "Initialisation"
      ]
    },
    {
      "cell_type": "code",
      "source": [
        "input_shape = (56, 56, 3)\n",
        "num_categories = len(name_list)"
      ],
      "metadata": {
        "id": "C51FYTJiNkgt"
      },
      "execution_count": 12,
      "outputs": []
    },
    {
      "cell_type": "markdown",
      "source": [
        "Load the model uploaded to the session and get the prediction probabilities"
      ],
      "metadata": {
        "id": "-If0U58IBQeF"
      }
    },
    {
      "cell_type": "code",
      "source": [
        "classifier = keras.models.load_model('/content/drive/MyDrive/classifier.h5')\n",
        "y_pred = classifier.predict(X)"
      ],
      "metadata": {
        "id": "hj6y32Wdntv-",
        "colab": {
          "base_uri": "https://localhost:8080/"
        },
        "outputId": "99e1f53f-2892-4660-94ea-b2c13a1a23db"
      },
      "execution_count": 14,
      "outputs": [
        {
          "output_type": "stream",
          "name": "stdout",
          "text": [
            "1/1 [==============================] - 2s 2s/step\n"
          ]
        }
      ]
    },
    {
      "cell_type": "code",
      "source": [
        "y = y.reshape(22)\n",
        "y_p = []\n",
        "for pred in y_pred:\n",
        "    y_p.append(np.argmax(pred))\n",
        "y_pred = np.array(y_p)"
      ],
      "metadata": {
        "id": "bK3pJiRnNpq6"
      },
      "execution_count": 15,
      "outputs": []
    },
    {
      "cell_type": "code",
      "source": [
        "ac = accuracy_score(y, y_pred)"
      ],
      "metadata": {
        "id": "BYN0gKZwPyU8"
      },
      "execution_count": 19,
      "outputs": []
    },
    {
      "cell_type": "code",
      "source": [
        "print(f'Accuracy: {round(ac*100,2)}%')\n",
        "cnt = list(y-y_pred).count(0)\n",
        "print(f'{cnt} out of 22 product categories were predicted correctly')"
      ],
      "metadata": {
        "colab": {
          "base_uri": "https://localhost:8080/"
        },
        "id": "3RfwQ0HsP2RB",
        "outputId": "c4ee0426-5540-46c8-fb0a-29ec7ee77e27"
      },
      "execution_count": 23,
      "outputs": [
        {
          "output_type": "stream",
          "name": "stdout",
          "text": [
            "Accuracy: 72.73%\n",
            "16 out of 22 product categories were predicted correctly\n"
          ]
        }
      ]
    },
    {
      "cell_type": "markdown",
      "source": [
        "Initialisation"
      ],
      "metadata": {
        "id": "sfdnGVb0RCQl"
      }
    },
    {
      "cell_type": "code",
      "source": [
        "i = 0"
      ],
      "metadata": {
        "id": "6S6w1WYQQGO1"
      },
      "execution_count": 34,
      "outputs": []
    },
    {
      "cell_type": "markdown",
      "source": [
        "Repeat this codeblock for 22 times to observe the predictions of the model for the 22 product categories"
      ],
      "metadata": {
        "id": "gXtY5xHWRIq6"
      }
    },
    {
      "cell_type": "code",
      "source": [
        "print('Actual Product Category: ', label_to_name[y[i]])\n",
        "print('Predicted Product Category: ', label_to_name[y_pred[i]])\n",
        "images[i].show()\n",
        "i = i + 1"
      ],
      "metadata": {
        "colab": {
          "base_uri": "https://localhost:8080/",
          "height": 353
        },
        "id": "ddCRciseQIBh",
        "outputId": "9015bdb2-981c-43ed-833a-f0cd70a00de4"
      },
      "execution_count": 44,
      "outputs": [
        {
          "output_type": "stream",
          "name": "stdout",
          "text": [
            "Actual Product Category:  Men_Western_Wear_Sweatshirts_Hoodies\n",
            "Predicted Product Category:  Men_Western_Wear_Sweatshirts_Hoodies\n"
          ]
        },
        {
          "output_type": "display_data",
          "data": {
            "text/plain": [
              "<PIL.JpegImagePlugin.JpegImageFile image mode=RGB size=148x300 at 0x7F43BC98C2E0>"
            ],
            "image/png": "[encoded data removed]"
          },
          "metadata": {}
        }
      ]
    }
  ]
}